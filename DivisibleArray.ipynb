{
 "metadata": {
  "name": ""
 },
 "nbformat": 3,
 "nbformat_minor": 0,
 "worksheets": [
  {
   "cells": [
    {
     "cell_type": "heading",
     "level": 1,
     "metadata": {},
     "source": [
      "Overriding Operators in Python"
     ]
    },
    {
     "cell_type": "markdown",
     "metadata": {},
     "source": [
      "Just like C++ or other high level programming language, Python allows you to override operators, such as +, - and /. For matrix manipulation, it will be extremely useful if we are able to divide two lists(or arrays).\n",
      "\n",
      "How to do that? I have to solutions:\n",
      "\n",
      "1. Use [Numpy](http://www.numpy.org/), which is one of the core projects under [Scipy](http://www.scipy.org/).\n",
      "2. Create a new class in Python and override \\_\\_dev\\_\\_()_ function.\n"
     ]
    },
    {
     "cell_type": "heading",
     "level": 2,
     "metadata": {},
     "source": [
      "Method 1: Use Numpy"
     ]
    },
    {
     "cell_type": "code",
     "collapsed": false,
     "input": [
      "import numpy as np\n",
      "a = np.array([12, 34, 53])\n",
      "b = np.array([1, 2,  13])\n",
      "print(a / b)\n",
      "print(type(a / b))"
     ],
     "language": "python",
     "metadata": {},
     "outputs": [
      {
       "output_type": "stream",
       "stream": "stdout",
       "text": [
        "[12 17  4]\n",
        "<type 'numpy.ndarray'>\n"
       ]
      }
     ],
     "prompt_number": 2
    },
    {
     "cell_type": "markdown",
     "metadata": {},
     "source": [
      "Let me explain this code.\n",
      "\n",
      "* Line 1 imports numpy package. To simply _numpy_, we can add _as np_ so that we can only type _np_ to use numpy package.\n",
      "* Line 2 and 3 create a numpy array from python list.\n",
      "* Line 5 prints the result type. Even though python is a dynamic programming language, it's also strongly typed. You can track variable type. "
     ]
    },
    {
     "cell_type": "heading",
     "level": 2,
     "metadata": {},
     "source": [
      "Method 2: Define New Class"
     ]
    },
    {
     "cell_type": "markdown",
     "metadata": {},
     "source": [
      "Let's define a class __DivisibleArray__"
     ]
    },
    {
     "cell_type": "code",
     "collapsed": false,
     "input": [
      "class DivisibleArray(object):\n",
      "    def __init__(self, raw_list):\n",
      "        self.list = raw_list\n",
      "        \n",
      "    def __div__(self, other):\n",
      "        if isinstance(other, self.__class__):\n",
      "            return DivisibleArray([float(dividend) / float(divisor) for (dividend, divisor) in zip(self.list, other.list)])\n",
      "        \n",
      "    def __repr__(self):\n",
      "        return self.list.__repr__()"
     ],
     "language": "python",
     "metadata": {},
     "outputs": [],
     "prompt_number": 3
    },
    {
     "cell_type": "markdown",
     "metadata": {},
     "source": [
      "Before using this class, let's take a look at how we override division method in this class.\n",
      "\n",
      "* \\_\\_init\\_\\_() method is a constructor. Just like __new__ in C++. This construtor is suppoed to take a python list and assign it to a \"private\" variable _self.list_. _self_ is a keyword in python, just like _this_ in C++ and Java.\n",
      "* The key part is \\_\\_div\\_\\_() method. It will take another object _other_ and do division. Of course, before actually doing it, you have to check if these two objects are same, or exceptions will be thrown. _zip_ is create a pair-wise tuple for each elements in _self.list_ and _other.list_. We go through each tuple and calculate division. I use python 2.7. So if I want to avoid int / int -> int, I have to convert int to float explicitly. This will generate a python list and we create a new __DivisibleArray__ instance.\n",
      "* \\_\\_repr\\_\\_() is another built-in method and will called by _print()_ method, so that you will see the exact value of reuslt instead of a memory address."
     ]
    },
    {
     "cell_type": "code",
     "collapsed": false,
     "input": [
      "array_a = DivisibleArray([12, 34, 54])\n",
      "array_b = DivisibleArray([1, 2, 13])\n",
      "array_c = array_a / array_b\n",
      "print(array_c)\n",
      "print(type(array_c))"
     ],
     "language": "python",
     "metadata": {},
     "outputs": [
      {
       "output_type": "stream",
       "stream": "stdout",
       "text": [
        "[12.0, 17.0, 4.153846153846154]\n",
        "<class '__main__.DivisibleArray'>\n"
       ]
      }
     ],
     "prompt_number": 4
    }
   ],
   "metadata": {}
  }
 ]
}